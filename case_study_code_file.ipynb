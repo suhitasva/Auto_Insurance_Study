{
 "cells": [
  {
   "cell_type": "markdown",
   "id": "915b088e",
   "metadata": {},
   "source": [
    "# Auto Insurance Case Study"
   ]
  },
  {
   "cell_type": "code",
   "execution_count": 1,
   "id": "d559615b",
   "metadata": {},
   "outputs": [],
   "source": [
    "import pandas as pd\n",
    "import numpy as np\n",
    "import seaborn as sns\n",
    "import matplotlib.pyplot as plt\n",
    "import missingno as msno\n",
    "plt.style.use('ggplot')\n",
    "import warnings\n",
    "warnings.filterwarnings(\"ignore\")"
   ]
  },
  {
   "cell_type": "markdown",
   "id": "76cda850",
   "metadata": {},
   "source": [
    "## Loading case study data:"
   ]
  },
  {
   "cell_type": "markdown",
   "id": "08381846",
   "metadata": {},
   "source": [
    "### Loading 2017 auto policies data:"
   ]
  },
  {
   "cell_type": "markdown",
   "id": "fdf48cf3",
   "metadata": {},
   "source": [
    "- This data set is a set of personal auto insurance policies taken out in 2017. There are 60,392 policies (rows), of which 10,030 had at least one claim. "
   ]
  },
  {
   "cell_type": "code",
   "execution_count": 2,
   "id": "ea48a77d",
   "metadata": {},
   "outputs": [],
   "source": [
    "auto_policies_2017 = pd.read_csv(\"auto_policies_2017.csv\")"
   ]
  },
  {
   "cell_type": "markdown",
   "id": "60870c7b",
   "metadata": {},
   "source": [
    "- Checking dataset shape:"
   ]
  },
  {
   "cell_type": "code",
   "execution_count": 3,
   "id": "1882502f",
   "metadata": {},
   "outputs": [
    {
     "name": "stdout",
     "output_type": "stream",
     "text": [
      "Shape of auto_policies_2017 : (60392, 15)\n"
     ]
    }
   ],
   "source": [
    "print('Shape of auto_policies_2017 :',auto_policies_2017.shape)"
   ]
  },
  {
   "cell_type": "markdown",
   "id": "92aee076",
   "metadata": {},
   "source": [
    "- Looking at first few rows:"
   ]
  },
  {
   "cell_type": "code",
   "execution_count": 4,
   "id": "faa47e60",
   "metadata": {},
   "outputs": [
    {
     "data": {
      "text/plain": [
       "Index(['pol_number', 'pol_eff_dt', 'gender', 'agecat', 'date_of_birth',\n",
       "       'credit_score', 'area', 'traffic_index', 'veh_age', 'veh_body',\n",
       "       'veh_value', 'claim_office', 'numclaims', 'claimcst0',\n",
       "       'annual_premium'],\n",
       "      dtype='object')"
      ]
     },
     "execution_count": 4,
     "metadata": {},
     "output_type": "execute_result"
    }
   ],
   "source": [
    "auto_policies_2017.columns"
   ]
  },
  {
   "cell_type": "markdown",
   "id": "eacd8f8f",
   "metadata": {},
   "source": [
    "- Renamed few columns for clarity and future analysis:"
   ]
  },
  {
   "cell_type": "code",
   "execution_count": 5,
   "id": "0525c526",
   "metadata": {},
   "outputs": [],
   "source": [
    "auto_policies_2017.columns = auto_policies_2017.columns.str.replace(\"agecat\",\"age_category\")\n",
    "auto_policies_2017.columns = auto_policies_2017.columns.str.replace(\"numclaims\",\"num_claims\")\n",
    "auto_policies_2017.columns = auto_policies_2017.columns.str.replace(\"claimcst0\",\"claim_amount\")\n",
    "auto_policies_2017.columns = auto_policies_2017.columns.str.replace(\"veh_age\",\"vehicle_age\")\n",
    "auto_policies_2017.columns = auto_policies_2017.columns.str.replace(\"veh_body\",\"vehicle_body\")\n",
    "auto_policies_2017.columns = auto_policies_2017.columns.str.replace(\"veh_value\",\"vehicle_value\")"
   ]
  },
  {
   "cell_type": "code",
   "execution_count": 6,
   "id": "8e80d157",
   "metadata": {},
   "outputs": [
    {
     "data": {
      "text/html": [
       "<div>\n",
       "<style scoped>\n",
       "    .dataframe tbody tr th:only-of-type {\n",
       "        vertical-align: middle;\n",
       "    }\n",
       "\n",
       "    .dataframe tbody tr th {\n",
       "        vertical-align: top;\n",
       "    }\n",
       "\n",
       "    .dataframe thead th {\n",
       "        text-align: right;\n",
       "    }\n",
       "</style>\n",
       "<table border=\"1\" class=\"dataframe\">\n",
       "  <thead>\n",
       "    <tr style=\"text-align: right;\">\n",
       "      <th></th>\n",
       "      <th>pol_number</th>\n",
       "      <th>pol_eff_dt</th>\n",
       "      <th>gender</th>\n",
       "      <th>age_category</th>\n",
       "      <th>date_of_birth</th>\n",
       "      <th>credit_score</th>\n",
       "      <th>area</th>\n",
       "      <th>traffic_index</th>\n",
       "      <th>vehicle_age</th>\n",
       "      <th>vehicle_body</th>\n",
       "      <th>vehicle_value</th>\n",
       "      <th>claim_office</th>\n",
       "      <th>num_claims</th>\n",
       "      <th>claim_amount</th>\n",
       "      <th>annual_premium</th>\n",
       "    </tr>\n",
       "  </thead>\n",
       "  <tbody>\n",
       "    <tr>\n",
       "      <th>0</th>\n",
       "      <td>64080188</td>\n",
       "      <td>7/10/2017</td>\n",
       "      <td>M</td>\n",
       "      <td>2.0</td>\n",
       "      <td>1/4/1989</td>\n",
       "      <td>631.0</td>\n",
       "      <td>B</td>\n",
       "      <td>140.9</td>\n",
       "      <td>4</td>\n",
       "      <td>TRUCK</td>\n",
       "      <td>0.924</td>\n",
       "      <td>NaN</td>\n",
       "      <td>0</td>\n",
       "      <td>0.000000</td>\n",
       "      <td>716.53</td>\n",
       "    </tr>\n",
       "    <tr>\n",
       "      <th>1</th>\n",
       "      <td>18917133</td>\n",
       "      <td>7/31/2017</td>\n",
       "      <td>M</td>\n",
       "      <td>2.0</td>\n",
       "      <td>6/21/1985</td>\n",
       "      <td>531.0</td>\n",
       "      <td>C</td>\n",
       "      <td>136.5</td>\n",
       "      <td>3</td>\n",
       "      <td>HBACK</td>\n",
       "      <td>1.430</td>\n",
       "      <td>B</td>\n",
       "      <td>1</td>\n",
       "      <td>583.010876</td>\n",
       "      <td>716.53</td>\n",
       "    </tr>\n",
       "    <tr>\n",
       "      <th>2</th>\n",
       "      <td>82742606</td>\n",
       "      <td>2/1/2017</td>\n",
       "      <td>M</td>\n",
       "      <td>6.0</td>\n",
       "      <td>7/25/1942</td>\n",
       "      <td>838.0</td>\n",
       "      <td>D</td>\n",
       "      <td>88.8</td>\n",
       "      <td>3</td>\n",
       "      <td>SEDAN</td>\n",
       "      <td>1.100</td>\n",
       "      <td>D</td>\n",
       "      <td>1</td>\n",
       "      <td>159.375757</td>\n",
       "      <td>716.53</td>\n",
       "    </tr>\n",
       "    <tr>\n",
       "      <th>3</th>\n",
       "      <td>43601997</td>\n",
       "      <td>10/17/2017</td>\n",
       "      <td>M</td>\n",
       "      <td>5.0</td>\n",
       "      <td>6/8/1959</td>\n",
       "      <td>835.0</td>\n",
       "      <td>E</td>\n",
       "      <td>NaN</td>\n",
       "      <td>2</td>\n",
       "      <td>SEDAN</td>\n",
       "      <td>2.090</td>\n",
       "      <td>NaN</td>\n",
       "      <td>0</td>\n",
       "      <td>0.000000</td>\n",
       "      <td>716.53</td>\n",
       "    </tr>\n",
       "    <tr>\n",
       "      <th>4</th>\n",
       "      <td>58746861</td>\n",
       "      <td>4/13/2017</td>\n",
       "      <td>F</td>\n",
       "      <td>4.0</td>\n",
       "      <td>5/16/1967</td>\n",
       "      <td>748.0</td>\n",
       "      <td>C</td>\n",
       "      <td>123.0</td>\n",
       "      <td>3</td>\n",
       "      <td>HBACK</td>\n",
       "      <td>0.803</td>\n",
       "      <td>C</td>\n",
       "      <td>1</td>\n",
       "      <td>143.555642</td>\n",
       "      <td>716.53</td>\n",
       "    </tr>\n",
       "    <tr>\n",
       "      <th>5</th>\n",
       "      <td>83346346</td>\n",
       "      <td>11/23/2017</td>\n",
       "      <td>M</td>\n",
       "      <td>5.0</td>\n",
       "      <td>11/2/1956</td>\n",
       "      <td>785.0</td>\n",
       "      <td>B</td>\n",
       "      <td>108.6</td>\n",
       "      <td>2</td>\n",
       "      <td>SEDAN</td>\n",
       "      <td>1.903</td>\n",
       "      <td>NaN</td>\n",
       "      <td>0</td>\n",
       "      <td>0.000000</td>\n",
       "      <td>716.53</td>\n",
       "    </tr>\n",
       "    <tr>\n",
       "      <th>6</th>\n",
       "      <td>92111059</td>\n",
       "      <td>11/29/2017</td>\n",
       "      <td>M</td>\n",
       "      <td>3.0</td>\n",
       "      <td>10/31/1976</td>\n",
       "      <td>759.0</td>\n",
       "      <td>E</td>\n",
       "      <td>75.0</td>\n",
       "      <td>4</td>\n",
       "      <td>STNWG</td>\n",
       "      <td>1.452</td>\n",
       "      <td>NaN</td>\n",
       "      <td>0</td>\n",
       "      <td>0.000000</td>\n",
       "      <td>716.53</td>\n",
       "    </tr>\n",
       "    <tr>\n",
       "      <th>7</th>\n",
       "      <td>69967688</td>\n",
       "      <td>4/24/2017</td>\n",
       "      <td>F</td>\n",
       "      <td>NaN</td>\n",
       "      <td>11/27/1947</td>\n",
       "      <td>836.0</td>\n",
       "      <td>C</td>\n",
       "      <td>88.5</td>\n",
       "      <td>1</td>\n",
       "      <td>HBACK</td>\n",
       "      <td>1.397</td>\n",
       "      <td>NaN</td>\n",
       "      <td>0</td>\n",
       "      <td>0.000000</td>\n",
       "      <td>716.53</td>\n",
       "    </tr>\n",
       "    <tr>\n",
       "      <th>8</th>\n",
       "      <td>58856161</td>\n",
       "      <td>7/19/2017</td>\n",
       "      <td>M</td>\n",
       "      <td>NaN</td>\n",
       "      <td>3/12/1967</td>\n",
       "      <td>688.0</td>\n",
       "      <td>A</td>\n",
       "      <td>50.0</td>\n",
       "      <td>1</td>\n",
       "      <td>SEDAN</td>\n",
       "      <td>2.838</td>\n",
       "      <td>NaN</td>\n",
       "      <td>0</td>\n",
       "      <td>0.000000</td>\n",
       "      <td>716.53</td>\n",
       "    </tr>\n",
       "    <tr>\n",
       "      <th>9</th>\n",
       "      <td>57786319</td>\n",
       "      <td>8/31/2017</td>\n",
       "      <td>M</td>\n",
       "      <td>NaN</td>\n",
       "      <td>12/25/1984</td>\n",
       "      <td>503.0</td>\n",
       "      <td>B</td>\n",
       "      <td>NaN</td>\n",
       "      <td>3</td>\n",
       "      <td>HBACK</td>\n",
       "      <td>1.936</td>\n",
       "      <td>B</td>\n",
       "      <td>1</td>\n",
       "      <td>1039.398350</td>\n",
       "      <td>716.53</td>\n",
       "    </tr>\n",
       "  </tbody>\n",
       "</table>\n",
       "</div>"
      ],
      "text/plain": [
       "   pol_number  pol_eff_dt gender  age_category date_of_birth  credit_score  \\\n",
       "0    64080188   7/10/2017      M           2.0      1/4/1989         631.0   \n",
       "1    18917133   7/31/2017      M           2.0     6/21/1985         531.0   \n",
       "2    82742606    2/1/2017      M           6.0     7/25/1942         838.0   \n",
       "3    43601997  10/17/2017      M           5.0      6/8/1959         835.0   \n",
       "4    58746861   4/13/2017      F           4.0     5/16/1967         748.0   \n",
       "5    83346346  11/23/2017      M           5.0     11/2/1956         785.0   \n",
       "6    92111059  11/29/2017      M           3.0    10/31/1976         759.0   \n",
       "7    69967688   4/24/2017      F           NaN    11/27/1947         836.0   \n",
       "8    58856161   7/19/2017      M           NaN     3/12/1967         688.0   \n",
       "9    57786319   8/31/2017      M           NaN    12/25/1984         503.0   \n",
       "\n",
       "  area  traffic_index  vehicle_age vehicle_body  vehicle_value claim_office  \\\n",
       "0    B          140.9            4        TRUCK          0.924          NaN   \n",
       "1    C          136.5            3        HBACK          1.430            B   \n",
       "2    D           88.8            3        SEDAN          1.100            D   \n",
       "3    E            NaN            2        SEDAN          2.090          NaN   \n",
       "4    C          123.0            3        HBACK          0.803            C   \n",
       "5    B          108.6            2        SEDAN          1.903          NaN   \n",
       "6    E           75.0            4        STNWG          1.452          NaN   \n",
       "7    C           88.5            1        HBACK          1.397          NaN   \n",
       "8    A           50.0            1        SEDAN          2.838          NaN   \n",
       "9    B            NaN            3        HBACK          1.936            B   \n",
       "\n",
       "   num_claims  claim_amount  annual_premium  \n",
       "0           0      0.000000          716.53  \n",
       "1           1    583.010876          716.53  \n",
       "2           1    159.375757          716.53  \n",
       "3           0      0.000000          716.53  \n",
       "4           1    143.555642          716.53  \n",
       "5           0      0.000000          716.53  \n",
       "6           0      0.000000          716.53  \n",
       "7           0      0.000000          716.53  \n",
       "8           0      0.000000          716.53  \n",
       "9           1   1039.398350          716.53  "
      ]
     },
     "execution_count": 6,
     "metadata": {},
     "output_type": "execute_result"
    }
   ],
   "source": [
    "auto_policies_2017.head(10)"
   ]
  },
  {
   "cell_type": "markdown",
   "id": "de0e850f",
   "metadata": {},
   "source": [
    "### Loading auto policies potential customers 2018 data:"
   ]
  },
  {
   "cell_type": "markdown",
   "id": "28438909",
   "metadata": {},
   "source": [
    "- This is a list of 7,464 potential customers for 2018.  "
   ]
  },
  {
   "cell_type": "code",
   "execution_count": 7,
   "id": "c7753c33",
   "metadata": {},
   "outputs": [],
   "source": [
    "auto_potential_2018 = pd.read_csv(\"auto_potential_customers_2018.csv\")"
   ]
  },
  {
   "cell_type": "markdown",
   "id": "2e76ec19",
   "metadata": {},
   "source": [
    "- Checking dataset shape:"
   ]
  },
  {
   "cell_type": "code",
   "execution_count": 8,
   "id": "cda8ed77",
   "metadata": {},
   "outputs": [
    {
     "name": "stdout",
     "output_type": "stream",
     "text": [
      "Shape of auto_potential_2018 : (7464, 10)\n"
     ]
    }
   ],
   "source": [
    "print('Shape of auto_potential_2018 :',auto_potential_2018.shape)"
   ]
  },
  {
   "cell_type": "markdown",
   "id": "30c1cd91",
   "metadata": {},
   "source": [
    "- Looking at first few rows:"
   ]
  },
  {
   "cell_type": "code",
   "execution_count": 9,
   "id": "8e511f05",
   "metadata": {},
   "outputs": [
    {
     "data": {
      "text/plain": [
       "Index(['quote_number', 'gender', 'agecat', 'date_of_birth', 'credit_score',\n",
       "       'area', 'traffic_index', 'veh_age', 'veh_body', 'veh_value'],\n",
       "      dtype='object')"
      ]
     },
     "execution_count": 9,
     "metadata": {},
     "output_type": "execute_result"
    }
   ],
   "source": [
    "auto_potential_2018.columns"
   ]
  },
  {
   "cell_type": "markdown",
   "id": "fedfd54f",
   "metadata": {},
   "source": [
    "- Renamed few columns for clarity and future analysis:"
   ]
  },
  {
   "cell_type": "code",
   "execution_count": 10,
   "id": "50cae8e1",
   "metadata": {},
   "outputs": [],
   "source": [
    "auto_potential_2018.columns = auto_potential_2018.columns.str.replace(\"agecat\",\"age_category\")\n",
    "auto_potential_2018.columns = auto_potential_2018.columns.str.replace(\"veh_age\",\"vehicle_age\")\n",
    "auto_potential_2018.columns = auto_potential_2018.columns.str.replace(\"veh_body\",\"vehicle_body\")\n",
    "auto_potential_2018.columns = auto_potential_2018.columns.str.replace(\"veh_value\",\"vehicle_value\")"
   ]
  },
  {
   "cell_type": "code",
   "execution_count": 11,
   "id": "174c8b3e",
   "metadata": {},
   "outputs": [
    {
     "data": {
      "text/html": [
       "<div>\n",
       "<style scoped>\n",
       "    .dataframe tbody tr th:only-of-type {\n",
       "        vertical-align: middle;\n",
       "    }\n",
       "\n",
       "    .dataframe tbody tr th {\n",
       "        vertical-align: top;\n",
       "    }\n",
       "\n",
       "    .dataframe thead th {\n",
       "        text-align: right;\n",
       "    }\n",
       "</style>\n",
       "<table border=\"1\" class=\"dataframe\">\n",
       "  <thead>\n",
       "    <tr style=\"text-align: right;\">\n",
       "      <th></th>\n",
       "      <th>quote_number</th>\n",
       "      <th>gender</th>\n",
       "      <th>age_category</th>\n",
       "      <th>date_of_birth</th>\n",
       "      <th>credit_score</th>\n",
       "      <th>area</th>\n",
       "      <th>traffic_index</th>\n",
       "      <th>vehicle_age</th>\n",
       "      <th>vehicle_body</th>\n",
       "      <th>vehicle_value</th>\n",
       "    </tr>\n",
       "  </thead>\n",
       "  <tbody>\n",
       "    <tr>\n",
       "      <th>0</th>\n",
       "      <td>29323463</td>\n",
       "      <td>F</td>\n",
       "      <td>4.0</td>\n",
       "      <td>4/14/1968</td>\n",
       "      <td>750.0</td>\n",
       "      <td>C</td>\n",
       "      <td>124.5</td>\n",
       "      <td>2</td>\n",
       "      <td>HBACK</td>\n",
       "      <td>1.100</td>\n",
       "    </tr>\n",
       "    <tr>\n",
       "      <th>1</th>\n",
       "      <td>16732441</td>\n",
       "      <td>M</td>\n",
       "      <td>2.0</td>\n",
       "      <td>10/4/1984</td>\n",
       "      <td>567.0</td>\n",
       "      <td>F</td>\n",
       "      <td>NaN</td>\n",
       "      <td>3</td>\n",
       "      <td>STNWG</td>\n",
       "      <td>2.079</td>\n",
       "    </tr>\n",
       "    <tr>\n",
       "      <th>2</th>\n",
       "      <td>68744228</td>\n",
       "      <td>M</td>\n",
       "      <td>4.0</td>\n",
       "      <td>11/30/1962</td>\n",
       "      <td>378.0</td>\n",
       "      <td>D</td>\n",
       "      <td>111.4</td>\n",
       "      <td>3</td>\n",
       "      <td>HDTOP</td>\n",
       "      <td>2.354</td>\n",
       "    </tr>\n",
       "    <tr>\n",
       "      <th>3</th>\n",
       "      <td>30875047</td>\n",
       "      <td>F</td>\n",
       "      <td>3.0</td>\n",
       "      <td>5/17/1973</td>\n",
       "      <td>807.0</td>\n",
       "      <td>E</td>\n",
       "      <td>NaN</td>\n",
       "      <td>4</td>\n",
       "      <td>UTE</td>\n",
       "      <td>1.969</td>\n",
       "    </tr>\n",
       "    <tr>\n",
       "      <th>4</th>\n",
       "      <td>37049210</td>\n",
       "      <td>M</td>\n",
       "      <td>6.0</td>\n",
       "      <td>10/2/1945</td>\n",
       "      <td>844.0</td>\n",
       "      <td>C</td>\n",
       "      <td>111.0</td>\n",
       "      <td>1</td>\n",
       "      <td>HBACK</td>\n",
       "      <td>1.969</td>\n",
       "    </tr>\n",
       "    <tr>\n",
       "      <th>5</th>\n",
       "      <td>90859532</td>\n",
       "      <td>M</td>\n",
       "      <td>1.0</td>\n",
       "      <td>1/19/1995</td>\n",
       "      <td>743.0</td>\n",
       "      <td>C</td>\n",
       "      <td>133.5</td>\n",
       "      <td>1</td>\n",
       "      <td>HBACK</td>\n",
       "      <td>2.090</td>\n",
       "    </tr>\n",
       "    <tr>\n",
       "      <th>6</th>\n",
       "      <td>58572612</td>\n",
       "      <td>M</td>\n",
       "      <td>5.0</td>\n",
       "      <td>3/27/1953</td>\n",
       "      <td>647.0</td>\n",
       "      <td>F</td>\n",
       "      <td>156.0</td>\n",
       "      <td>3</td>\n",
       "      <td>HDTOP</td>\n",
       "      <td>2.915</td>\n",
       "    </tr>\n",
       "    <tr>\n",
       "      <th>7</th>\n",
       "      <td>32679788</td>\n",
       "      <td>M</td>\n",
       "      <td>4.0</td>\n",
       "      <td>9/20/1964</td>\n",
       "      <td>785.0</td>\n",
       "      <td>A</td>\n",
       "      <td>NaN</td>\n",
       "      <td>2</td>\n",
       "      <td>SEDAN</td>\n",
       "      <td>1.925</td>\n",
       "    </tr>\n",
       "    <tr>\n",
       "      <th>8</th>\n",
       "      <td>90845095</td>\n",
       "      <td>F</td>\n",
       "      <td>1.0</td>\n",
       "      <td>1/17/1999</td>\n",
       "      <td>601.0</td>\n",
       "      <td>B</td>\n",
       "      <td>105.2</td>\n",
       "      <td>2</td>\n",
       "      <td>HBACK</td>\n",
       "      <td>1.430</td>\n",
       "    </tr>\n",
       "    <tr>\n",
       "      <th>9</th>\n",
       "      <td>97453004</td>\n",
       "      <td>F</td>\n",
       "      <td>3.0</td>\n",
       "      <td>12/2/1979</td>\n",
       "      <td>672.0</td>\n",
       "      <td>C</td>\n",
       "      <td>145.5</td>\n",
       "      <td>2</td>\n",
       "      <td>STNWG</td>\n",
       "      <td>3.905</td>\n",
       "    </tr>\n",
       "  </tbody>\n",
       "</table>\n",
       "</div>"
      ],
      "text/plain": [
       "   quote_number gender  age_category date_of_birth  credit_score area  \\\n",
       "0      29323463      F           4.0     4/14/1968         750.0    C   \n",
       "1      16732441      M           2.0     10/4/1984         567.0    F   \n",
       "2      68744228      M           4.0    11/30/1962         378.0    D   \n",
       "3      30875047      F           3.0     5/17/1973         807.0    E   \n",
       "4      37049210      M           6.0     10/2/1945         844.0    C   \n",
       "5      90859532      M           1.0     1/19/1995         743.0    C   \n",
       "6      58572612      M           5.0     3/27/1953         647.0    F   \n",
       "7      32679788      M           4.0     9/20/1964         785.0    A   \n",
       "8      90845095      F           1.0     1/17/1999         601.0    B   \n",
       "9      97453004      F           3.0     12/2/1979         672.0    C   \n",
       "\n",
       "   traffic_index  vehicle_age vehicle_body  vehicle_value  \n",
       "0          124.5            2        HBACK          1.100  \n",
       "1            NaN            3        STNWG          2.079  \n",
       "2          111.4            3        HDTOP          2.354  \n",
       "3            NaN            4          UTE          1.969  \n",
       "4          111.0            1        HBACK          1.969  \n",
       "5          133.5            1        HBACK          2.090  \n",
       "6          156.0            3        HDTOP          2.915  \n",
       "7            NaN            2        SEDAN          1.925  \n",
       "8          105.2            2        HBACK          1.430  \n",
       "9          145.5            2        STNWG          3.905  "
      ]
     },
     "execution_count": 11,
     "metadata": {},
     "output_type": "execute_result"
    }
   ],
   "source": [
    "auto_potential_2018.head(10)"
   ]
  },
  {
   "cell_type": "markdown",
   "id": "552ca1bb",
   "metadata": {},
   "source": [
    "- Looking at column info in detail:"
   ]
  },
  {
   "cell_type": "code",
   "execution_count": 12,
   "id": "60da26d8",
   "metadata": {},
   "outputs": [
    {
     "data": {
      "text/html": [
       "<div>\n",
       "<style scoped>\n",
       "    .dataframe tbody tr th:only-of-type {\n",
       "        vertical-align: middle;\n",
       "    }\n",
       "\n",
       "    .dataframe tbody tr th {\n",
       "        vertical-align: top;\n",
       "    }\n",
       "\n",
       "    .dataframe thead th {\n",
       "        text-align: right;\n",
       "    }\n",
       "</style>\n",
       "<table border=\"1\" class=\"dataframe\">\n",
       "  <thead>\n",
       "    <tr style=\"text-align: right;\">\n",
       "      <th></th>\n",
       "      <th>pol_number</th>\n",
       "      <th>pol_eff_dt</th>\n",
       "      <th>gender</th>\n",
       "      <th>age_category</th>\n",
       "      <th>date_of_birth</th>\n",
       "      <th>credit_score</th>\n",
       "      <th>area</th>\n",
       "      <th>traffic_index</th>\n",
       "      <th>vehicle_age</th>\n",
       "      <th>vehicle_body</th>\n",
       "      <th>vehicle_value</th>\n",
       "      <th>claim_office</th>\n",
       "      <th>num_claims</th>\n",
       "      <th>claim_amount</th>\n",
       "      <th>annual_premium</th>\n",
       "    </tr>\n",
       "  </thead>\n",
       "  <tbody>\n",
       "    <tr>\n",
       "      <th>0</th>\n",
       "      <td>64080188</td>\n",
       "      <td>7/10/2017</td>\n",
       "      <td>M</td>\n",
       "      <td>2.0</td>\n",
       "      <td>1/4/1989</td>\n",
       "      <td>631.0</td>\n",
       "      <td>B</td>\n",
       "      <td>140.9</td>\n",
       "      <td>4</td>\n",
       "      <td>TRUCK</td>\n",
       "      <td>0.924</td>\n",
       "      <td>NaN</td>\n",
       "      <td>0</td>\n",
       "      <td>0.000000</td>\n",
       "      <td>716.53</td>\n",
       "    </tr>\n",
       "    <tr>\n",
       "      <th>1</th>\n",
       "      <td>18917133</td>\n",
       "      <td>7/31/2017</td>\n",
       "      <td>M</td>\n",
       "      <td>2.0</td>\n",
       "      <td>6/21/1985</td>\n",
       "      <td>531.0</td>\n",
       "      <td>C</td>\n",
       "      <td>136.5</td>\n",
       "      <td>3</td>\n",
       "      <td>HBACK</td>\n",
       "      <td>1.430</td>\n",
       "      <td>B</td>\n",
       "      <td>1</td>\n",
       "      <td>583.010876</td>\n",
       "      <td>716.53</td>\n",
       "    </tr>\n",
       "    <tr>\n",
       "      <th>2</th>\n",
       "      <td>82742606</td>\n",
       "      <td>2/1/2017</td>\n",
       "      <td>M</td>\n",
       "      <td>6.0</td>\n",
       "      <td>7/25/1942</td>\n",
       "      <td>838.0</td>\n",
       "      <td>D</td>\n",
       "      <td>88.8</td>\n",
       "      <td>3</td>\n",
       "      <td>SEDAN</td>\n",
       "      <td>1.100</td>\n",
       "      <td>D</td>\n",
       "      <td>1</td>\n",
       "      <td>159.375757</td>\n",
       "      <td>716.53</td>\n",
       "    </tr>\n",
       "    <tr>\n",
       "      <th>3</th>\n",
       "      <td>43601997</td>\n",
       "      <td>10/17/2017</td>\n",
       "      <td>M</td>\n",
       "      <td>5.0</td>\n",
       "      <td>6/8/1959</td>\n",
       "      <td>835.0</td>\n",
       "      <td>E</td>\n",
       "      <td>NaN</td>\n",
       "      <td>2</td>\n",
       "      <td>SEDAN</td>\n",
       "      <td>2.090</td>\n",
       "      <td>NaN</td>\n",
       "      <td>0</td>\n",
       "      <td>0.000000</td>\n",
       "      <td>716.53</td>\n",
       "    </tr>\n",
       "    <tr>\n",
       "      <th>4</th>\n",
       "      <td>58746861</td>\n",
       "      <td>4/13/2017</td>\n",
       "      <td>F</td>\n",
       "      <td>4.0</td>\n",
       "      <td>5/16/1967</td>\n",
       "      <td>748.0</td>\n",
       "      <td>C</td>\n",
       "      <td>123.0</td>\n",
       "      <td>3</td>\n",
       "      <td>HBACK</td>\n",
       "      <td>0.803</td>\n",
       "      <td>C</td>\n",
       "      <td>1</td>\n",
       "      <td>143.555642</td>\n",
       "      <td>716.53</td>\n",
       "    </tr>\n",
       "  </tbody>\n",
       "</table>\n",
       "</div>"
      ],
      "text/plain": [
       "   pol_number  pol_eff_dt gender  age_category date_of_birth  credit_score  \\\n",
       "0    64080188   7/10/2017      M           2.0      1/4/1989         631.0   \n",
       "1    18917133   7/31/2017      M           2.0     6/21/1985         531.0   \n",
       "2    82742606    2/1/2017      M           6.0     7/25/1942         838.0   \n",
       "3    43601997  10/17/2017      M           5.0      6/8/1959         835.0   \n",
       "4    58746861   4/13/2017      F           4.0     5/16/1967         748.0   \n",
       "\n",
       "  area  traffic_index  vehicle_age vehicle_body  vehicle_value claim_office  \\\n",
       "0    B          140.9            4        TRUCK          0.924          NaN   \n",
       "1    C          136.5            3        HBACK          1.430            B   \n",
       "2    D           88.8            3        SEDAN          1.100            D   \n",
       "3    E            NaN            2        SEDAN          2.090          NaN   \n",
       "4    C          123.0            3        HBACK          0.803            C   \n",
       "\n",
       "   num_claims  claim_amount  annual_premium  \n",
       "0           0      0.000000          716.53  \n",
       "1           1    583.010876          716.53  \n",
       "2           1    159.375757          716.53  \n",
       "3           0      0.000000          716.53  \n",
       "4           1    143.555642          716.53  "
      ]
     },
     "execution_count": 12,
     "metadata": {},
     "output_type": "execute_result"
    }
   ],
   "source": [
    "auto_policies_2017.head(5)"
   ]
  },
  {
   "cell_type": "code",
   "execution_count": 13,
   "id": "809ab68c",
   "metadata": {},
   "outputs": [
    {
     "name": "stdout",
     "output_type": "stream",
     "text": [
      "<class 'pandas.core.frame.DataFrame'>\n",
      "RangeIndex: 60392 entries, 0 to 60391\n",
      "Data columns (total 15 columns):\n",
      " #   Column          Non-Null Count  Dtype  \n",
      "---  ------          --------------  -----  \n",
      " 0   pol_number      60392 non-null  int64  \n",
      " 1   pol_eff_dt      60392 non-null  object \n",
      " 2   gender          60392 non-null  object \n",
      " 3   age_category    55561 non-null  float64\n",
      " 4   date_of_birth   60392 non-null  object \n",
      " 5   credit_score    57591 non-null  float64\n",
      " 6   area            60392 non-null  object \n",
      " 7   traffic_index   56889 non-null  float64\n",
      " 8   vehicle_age     60392 non-null  int64  \n",
      " 9   vehicle_body    60392 non-null  object \n",
      " 10  vehicle_value   60392 non-null  float64\n",
      " 11  claim_office    10030 non-null  object \n",
      " 12  num_claims      60392 non-null  int64  \n",
      " 13  claim_amount    60392 non-null  float64\n",
      " 14  annual_premium  60392 non-null  float64\n",
      "dtypes: float64(6), int64(3), object(6)\n",
      "memory usage: 6.9+ MB\n"
     ]
    }
   ],
   "source": [
    "auto_policies_2017.info()"
   ]
  },
  {
   "cell_type": "code",
   "execution_count": 14,
   "id": "bb34a533",
   "metadata": {},
   "outputs": [
    {
     "data": {
      "text/html": [
       "<div>\n",
       "<style scoped>\n",
       "    .dataframe tbody tr th:only-of-type {\n",
       "        vertical-align: middle;\n",
       "    }\n",
       "\n",
       "    .dataframe tbody tr th {\n",
       "        vertical-align: top;\n",
       "    }\n",
       "\n",
       "    .dataframe thead th {\n",
       "        text-align: right;\n",
       "    }\n",
       "</style>\n",
       "<table border=\"1\" class=\"dataframe\">\n",
       "  <thead>\n",
       "    <tr style=\"text-align: right;\">\n",
       "      <th></th>\n",
       "      <th>pol_number</th>\n",
       "      <th>age_category</th>\n",
       "      <th>credit_score</th>\n",
       "      <th>traffic_index</th>\n",
       "      <th>vehicle_age</th>\n",
       "      <th>vehicle_value</th>\n",
       "      <th>num_claims</th>\n",
       "      <th>claim_amount</th>\n",
       "      <th>annual_premium</th>\n",
       "    </tr>\n",
       "  </thead>\n",
       "  <tbody>\n",
       "    <tr>\n",
       "      <th>count</th>\n",
       "      <td>6.039200e+04</td>\n",
       "      <td>55561.000000</td>\n",
       "      <td>57591.000000</td>\n",
       "      <td>56889.000000</td>\n",
       "      <td>60392.000000</td>\n",
       "      <td>60392.000000</td>\n",
       "      <td>60392.000000</td>\n",
       "      <td>60392.000000</td>\n",
       "      <td>6.039200e+04</td>\n",
       "    </tr>\n",
       "    <tr>\n",
       "      <th>mean</th>\n",
       "      <td>5.499204e+07</td>\n",
       "      <td>3.488310</td>\n",
       "      <td>662.193190</td>\n",
       "      <td>103.892536</td>\n",
       "      <td>2.673748</td>\n",
       "      <td>1.956051</td>\n",
       "      <td>0.214250</td>\n",
       "      <td>644.875932</td>\n",
       "      <td>7.165300e+02</td>\n",
       "    </tr>\n",
       "    <tr>\n",
       "      <th>std</th>\n",
       "      <td>2.587003e+07</td>\n",
       "      <td>1.425133</td>\n",
       "      <td>136.450182</td>\n",
       "      <td>33.688679</td>\n",
       "      <td>1.068058</td>\n",
       "      <td>1.330279</td>\n",
       "      <td>0.552291</td>\n",
       "      <td>3354.631809</td>\n",
       "      <td>6.165288e-10</td>\n",
       "    </tr>\n",
       "    <tr>\n",
       "      <th>min</th>\n",
       "      <td>1.000040e+07</td>\n",
       "      <td>1.000000</td>\n",
       "      <td>301.000000</td>\n",
       "      <td>0.000000</td>\n",
       "      <td>1.000000</td>\n",
       "      <td>0.000000</td>\n",
       "      <td>0.000000</td>\n",
       "      <td>0.000000</td>\n",
       "      <td>7.165300e+02</td>\n",
       "    </tr>\n",
       "    <tr>\n",
       "      <th>25%</th>\n",
       "      <td>3.280473e+07</td>\n",
       "      <td>2.000000</td>\n",
       "      <td>602.000000</td>\n",
       "      <td>80.300000</td>\n",
       "      <td>2.000000</td>\n",
       "      <td>1.111000</td>\n",
       "      <td>0.000000</td>\n",
       "      <td>0.000000</td>\n",
       "      <td>7.165300e+02</td>\n",
       "    </tr>\n",
       "    <tr>\n",
       "      <th>50%</th>\n",
       "      <td>5.500180e+07</td>\n",
       "      <td>3.000000</td>\n",
       "      <td>682.000000</td>\n",
       "      <td>108.300000</td>\n",
       "      <td>3.000000</td>\n",
       "      <td>1.650000</td>\n",
       "      <td>0.000000</td>\n",
       "      <td>0.000000</td>\n",
       "      <td>7.165300e+02</td>\n",
       "    </tr>\n",
       "    <tr>\n",
       "      <th>75%</th>\n",
       "      <td>7.729614e+07</td>\n",
       "      <td>5.000000</td>\n",
       "      <td>772.000000</td>\n",
       "      <td>132.000000</td>\n",
       "      <td>4.000000</td>\n",
       "      <td>2.365000</td>\n",
       "      <td>0.000000</td>\n",
       "      <td>0.000000</td>\n",
       "      <td>7.165300e+02</td>\n",
       "    </tr>\n",
       "    <tr>\n",
       "      <th>max</th>\n",
       "      <td>9.999838e+07</td>\n",
       "      <td>6.000000</td>\n",
       "      <td>850.000000</td>\n",
       "      <td>207.000000</td>\n",
       "      <td>4.000000</td>\n",
       "      <td>38.016000</td>\n",
       "      <td>5.000000</td>\n",
       "      <td>69478.897830</td>\n",
       "      <td>7.165300e+02</td>\n",
       "    </tr>\n",
       "  </tbody>\n",
       "</table>\n",
       "</div>"
      ],
      "text/plain": [
       "         pol_number  age_category  credit_score  traffic_index   vehicle_age  \\\n",
       "count  6.039200e+04  55561.000000  57591.000000   56889.000000  60392.000000   \n",
       "mean   5.499204e+07      3.488310    662.193190     103.892536      2.673748   \n",
       "std    2.587003e+07      1.425133    136.450182      33.688679      1.068058   \n",
       "min    1.000040e+07      1.000000    301.000000       0.000000      1.000000   \n",
       "25%    3.280473e+07      2.000000    602.000000      80.300000      2.000000   \n",
       "50%    5.500180e+07      3.000000    682.000000     108.300000      3.000000   \n",
       "75%    7.729614e+07      5.000000    772.000000     132.000000      4.000000   \n",
       "max    9.999838e+07      6.000000    850.000000     207.000000      4.000000   \n",
       "\n",
       "       vehicle_value    num_claims  claim_amount  annual_premium  \n",
       "count   60392.000000  60392.000000  60392.000000    6.039200e+04  \n",
       "mean        1.956051      0.214250    644.875932    7.165300e+02  \n",
       "std         1.330279      0.552291   3354.631809    6.165288e-10  \n",
       "min         0.000000      0.000000      0.000000    7.165300e+02  \n",
       "25%         1.111000      0.000000      0.000000    7.165300e+02  \n",
       "50%         1.650000      0.000000      0.000000    7.165300e+02  \n",
       "75%         2.365000      0.000000      0.000000    7.165300e+02  \n",
       "max        38.016000      5.000000  69478.897830    7.165300e+02  "
      ]
     },
     "execution_count": 14,
     "metadata": {},
     "output_type": "execute_result"
    }
   ],
   "source": [
    "auto_policies_2017.describe()"
   ]
  },
  {
   "cell_type": "code",
   "execution_count": 15,
   "id": "04b10f04",
   "metadata": {},
   "outputs": [
    {
     "name": "stdout",
     "output_type": "stream",
     "text": [
      "<class 'pandas.core.frame.DataFrame'>\n",
      "RangeIndex: 7464 entries, 0 to 7463\n",
      "Data columns (total 10 columns):\n",
      " #   Column         Non-Null Count  Dtype  \n",
      "---  ------         --------------  -----  \n",
      " 0   quote_number   7464 non-null   int64  \n",
      " 1   gender         7464 non-null   object \n",
      " 2   age_category   6832 non-null   float64\n",
      " 3   date_of_birth  7464 non-null   object \n",
      " 4   credit_score   7109 non-null   float64\n",
      " 5   area           7464 non-null   object \n",
      " 6   traffic_index  7015 non-null   float64\n",
      " 7   vehicle_age    7464 non-null   int64  \n",
      " 8   vehicle_body   7464 non-null   object \n",
      " 9   vehicle_value  7464 non-null   float64\n",
      "dtypes: float64(4), int64(2), object(4)\n",
      "memory usage: 583.2+ KB\n"
     ]
    }
   ],
   "source": [
    "auto_potential_2018.info()"
   ]
  },
  {
   "cell_type": "code",
   "execution_count": 16,
   "id": "d643a256",
   "metadata": {},
   "outputs": [
    {
     "data": {
      "text/html": [
       "<div>\n",
       "<style scoped>\n",
       "    .dataframe tbody tr th:only-of-type {\n",
       "        vertical-align: middle;\n",
       "    }\n",
       "\n",
       "    .dataframe tbody tr th {\n",
       "        vertical-align: top;\n",
       "    }\n",
       "\n",
       "    .dataframe thead th {\n",
       "        text-align: right;\n",
       "    }\n",
       "</style>\n",
       "<table border=\"1\" class=\"dataframe\">\n",
       "  <thead>\n",
       "    <tr style=\"text-align: right;\">\n",
       "      <th></th>\n",
       "      <th>quote_number</th>\n",
       "      <th>age_category</th>\n",
       "      <th>credit_score</th>\n",
       "      <th>traffic_index</th>\n",
       "      <th>vehicle_age</th>\n",
       "      <th>vehicle_value</th>\n",
       "    </tr>\n",
       "  </thead>\n",
       "  <tbody>\n",
       "    <tr>\n",
       "      <th>count</th>\n",
       "      <td>7.464000e+03</td>\n",
       "      <td>6832.000000</td>\n",
       "      <td>7109.000000</td>\n",
       "      <td>7015.000000</td>\n",
       "      <td>7464.000000</td>\n",
       "      <td>7464.000000</td>\n",
       "    </tr>\n",
       "    <tr>\n",
       "      <th>mean</th>\n",
       "      <td>5.504566e+07</td>\n",
       "      <td>3.470433</td>\n",
       "      <td>661.321846</td>\n",
       "      <td>104.416636</td>\n",
       "      <td>2.671758</td>\n",
       "      <td>1.943977</td>\n",
       "    </tr>\n",
       "    <tr>\n",
       "      <th>std</th>\n",
       "      <td>2.605332e+07</td>\n",
       "      <td>1.429760</td>\n",
       "      <td>135.368887</td>\n",
       "      <td>33.919748</td>\n",
       "      <td>1.063432</td>\n",
       "      <td>1.288601</td>\n",
       "    </tr>\n",
       "    <tr>\n",
       "      <th>min</th>\n",
       "      <td>1.000528e+07</td>\n",
       "      <td>1.000000</td>\n",
       "      <td>301.000000</td>\n",
       "      <td>0.000000</td>\n",
       "      <td>1.000000</td>\n",
       "      <td>0.000000</td>\n",
       "    </tr>\n",
       "    <tr>\n",
       "      <th>25%</th>\n",
       "      <td>3.238049e+07</td>\n",
       "      <td>2.000000</td>\n",
       "      <td>600.000000</td>\n",
       "      <td>81.000000</td>\n",
       "      <td>2.000000</td>\n",
       "      <td>1.111000</td>\n",
       "    </tr>\n",
       "    <tr>\n",
       "      <th>50%</th>\n",
       "      <td>5.505358e+07</td>\n",
       "      <td>3.000000</td>\n",
       "      <td>680.000000</td>\n",
       "      <td>109.100000</td>\n",
       "      <td>3.000000</td>\n",
       "      <td>1.639000</td>\n",
       "    </tr>\n",
       "    <tr>\n",
       "      <th>75%</th>\n",
       "      <td>7.788507e+07</td>\n",
       "      <td>5.000000</td>\n",
       "      <td>769.000000</td>\n",
       "      <td>133.050000</td>\n",
       "      <td>4.000000</td>\n",
       "      <td>2.354000</td>\n",
       "    </tr>\n",
       "    <tr>\n",
       "      <th>max</th>\n",
       "      <td>9.997137e+07</td>\n",
       "      <td>6.000000</td>\n",
       "      <td>850.000000</td>\n",
       "      <td>223.700000</td>\n",
       "      <td>4.000000</td>\n",
       "      <td>18.700000</td>\n",
       "    </tr>\n",
       "  </tbody>\n",
       "</table>\n",
       "</div>"
      ],
      "text/plain": [
       "       quote_number  age_category  credit_score  traffic_index  vehicle_age  \\\n",
       "count  7.464000e+03   6832.000000   7109.000000    7015.000000  7464.000000   \n",
       "mean   5.504566e+07      3.470433    661.321846     104.416636     2.671758   \n",
       "std    2.605332e+07      1.429760    135.368887      33.919748     1.063432   \n",
       "min    1.000528e+07      1.000000    301.000000       0.000000     1.000000   \n",
       "25%    3.238049e+07      2.000000    600.000000      81.000000     2.000000   \n",
       "50%    5.505358e+07      3.000000    680.000000     109.100000     3.000000   \n",
       "75%    7.788507e+07      5.000000    769.000000     133.050000     4.000000   \n",
       "max    9.997137e+07      6.000000    850.000000     223.700000     4.000000   \n",
       "\n",
       "       vehicle_value  \n",
       "count    7464.000000  \n",
       "mean        1.943977  \n",
       "std         1.288601  \n",
       "min         0.000000  \n",
       "25%         1.111000  \n",
       "50%         1.639000  \n",
       "75%         2.354000  \n",
       "max        18.700000  "
      ]
     },
     "execution_count": 16,
     "metadata": {},
     "output_type": "execute_result"
    }
   ],
   "source": [
    "auto_potential_2018.describe()"
   ]
  },
  {
   "cell_type": "markdown",
   "id": "c3919e85",
   "metadata": {},
   "source": [
    "- Looking at duplicate values if any"
   ]
  },
  {
   "cell_type": "code",
   "execution_count": 17,
   "id": "2be79c3d",
   "metadata": {},
   "outputs": [
    {
     "data": {
      "text/plain": [
       "0"
      ]
     },
     "execution_count": 17,
     "metadata": {},
     "output_type": "execute_result"
    }
   ],
   "source": [
    "auto_policies_2017.duplicated().sum()"
   ]
  },
  {
   "cell_type": "code",
   "execution_count": 18,
   "id": "e64f321f",
   "metadata": {},
   "outputs": [
    {
     "data": {
      "text/plain": [
       "0"
      ]
     },
     "execution_count": 18,
     "metadata": {},
     "output_type": "execute_result"
    }
   ],
   "source": [
    "auto_potential_2018.duplicated().sum()"
   ]
  },
  {
   "cell_type": "markdown",
   "id": "d72b977c",
   "metadata": {},
   "source": [
    "- Checking null values:-"
   ]
  },
  {
   "cell_type": "code",
   "execution_count": 19,
   "id": "dc153084",
   "metadata": {},
   "outputs": [
    {
     "data": {
      "text/plain": [
       "age_category      4831\n",
       "credit_score      2801\n",
       "traffic_index     3503\n",
       "claim_office     50362\n",
       "dtype: int64"
      ]
     },
     "execution_count": 19,
     "metadata": {},
     "output_type": "execute_result"
    }
   ],
   "source": [
    "policies2017_null_counts = auto_policies_2017.isnull().sum()\n",
    "policies2017_null_counts[policies2017_null_counts > 0]"
   ]
  },
  {
   "cell_type": "code",
   "execution_count": 20,
   "id": "9e7df644",
   "metadata": {},
   "outputs": [
    {
     "data": {
      "text/plain": [
       "<AxesSubplot:>"
      ]
     },
     "execution_count": 20,
     "metadata": {},
     "output_type": "execute_result"
    },
    {
     "data": {
      "image/png": "[encoded data removed]",
      "text/plain": [
       "<Figure size 1800x720 with 2 Axes>"
      ]
     },
     "metadata": {},
     "output_type": "display_data"
    }
   ],
   "source": [
    "msno.matrix(auto_policies_2017)"
   ]
  },
  {
   "cell_type": "code",
   "execution_count": 21,
   "id": "b3150d29",
   "metadata": {},
   "outputs": [
    {
     "data": {
      "text/plain": [
       "age_category     632\n",
       "credit_score     355\n",
       "traffic_index    449\n",
       "dtype: int64"
      ]
     },
     "execution_count": 21,
     "metadata": {},
     "output_type": "execute_result"
    }
   ],
   "source": [
    "potential2018_null_counts = auto_potential_2018.isnull().sum()\n",
    "potential2018_null_counts[potential2018_null_counts > 0]"
   ]
  },
  {
   "cell_type": "code",
   "execution_count": 22,
   "id": "b2d757f3",
   "metadata": {},
   "outputs": [
    {
     "data": {
      "text/plain": [
       "<AxesSubplot:>"
      ]
     },
     "execution_count": 22,
     "metadata": {},
     "output_type": "execute_result"
    },
    {
     "data": {
      "image/png": "[encoded data removed]",
      "text/plain": [
       "<Figure size 1800x720 with 2 Axes>"
      ]
     },
     "metadata": {},
     "output_type": "display_data"
    }
   ],
   "source": [
    "msno.matrix(auto_potential_2018)"
   ]
  }
 ],
 "metadata": {
  "kernelspec": {
   "display_name": "Python 3",
   "language": "python",
   "name": "python3"
  },
  "language_info": {
   "codemirror_mode": {
    "name": "ipython",
    "version": 3
   },
   "file_extension": ".py",
   "mimetype": "text/x-python",
   "name": "python",
   "nbconvert_exporter": "python",
   "pygments_lexer": "ipython3",
   "version": "3.8.8"
  }
 },
 "nbformat": 4,
 "nbformat_minor": 5
}
